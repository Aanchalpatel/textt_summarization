{
 "cells": [
  {
   "cell_type": "code",
   "execution_count": 1,
   "id": "c163ecfb",
   "metadata": {},
   "outputs": [
    {
     "name": "stdout",
     "output_type": "stream",
     "text": [
      " From patient self-service to chat bots, computer-aided detection (CAD) systems for diagnosis, and image data analysis to identify candidate molecules in drug discovery, AI is already at work increasing convenience and efficiency, reducing costs and errors, and generally making it easier for more patients to receive the health care they need.While NLP and ML are already being used in health care, they will become increasingly important for their potential to:Improve provider and clinician productivity and quality of care, Enhance patient engagement in their own care and streamline patient access to care , Accelerate the speed and reduce the cost to develop new pharmaceutical treatments  and Personalize medical treatments by leveraging analytics to mine significant, previously untapped stores of non-codified clinical data. From patient self-service to chat bots, computer-aided detection (CAD) systems for diagnosis, and image data analysis to identify candidate molecules in drug discovery, AI is already at work increasing convenience and efficiency, reducing costs and errors, and generally making it easier for more patients to receive the health care they need.While NLP and ML are already being used in health care, they will become increasingly important for their potential to:Improve provider and clinician productivity and quality of care, Enhance patient engagement in their own care and streamline patient access to care , Accelerate the speed and reduce the cost to develop new pharmaceutical treatments  and Personalize medical treatments by leveraging analytics to mine significant, previously untapped stores of non-codified clinical data. From patient self-service to chat bots, computer-aided detection (CAD) systems for diagnosis, and image data analysis to identify candidate molecules in drug discovery, AI is already at work increasing convenience and efficiency, reducing costs and errors, and generally making it easier for more patients to receive the health care they need.While NLP and ML are already being used in health care, they will become increasingly important for their potential to:Improve provider and clinician productivity and quality of care, Enhance patient engagement in their own care and streamline patient access to care , Accelerate the speed and reduce the cost to develop new pharmaceutical treatments  and Personalize medical treatments by leveraging analytics to mine significant, previously untapped stores of non-codified clinical data. From patient self-service to chat bots, computer-aided detection (CAD) systems for diagnosis, and image data analysis to identify candidate molecules in drug discovery, AI is already at work increasing convenience and efficiency, reducing costs and errors, and generally making it easier for more patients to receive the health care they need.While NLP and ML are already being used in health care, they will become increasingly important for their potential to:Improve provider and clinician productivity and quality of care, Enhance patient engagement in their own care and streamline patient access to care , Accelerate the speed and reduce the cost to develop new pharmaceutical treatments  and Personalize medical treatments by leveraging analytics to mine significant, previously untapped stores of non-codified clinical data.\n",
      "\n",
      "\n"
     ]
    }
   ],
   "source": [
    "f = open(\"text1.txt\",\"r\")\n",
    "content = f.read()\n",
    "print(content)"
   ]
  },
  {
   "cell_type": "code",
   "execution_count": 2,
   "id": "4f038a8c",
   "metadata": {},
   "outputs": [],
   "source": [
    "from nltk.corpus import stopwords\n",
    "from nltk.tokenize import word_tokenize, sent_tokenize"
   ]
  },
  {
   "cell_type": "code",
   "execution_count": 3,
   "id": "a4493769",
   "metadata": {},
   "outputs": [
    {
     "name": "stdout",
     "output_type": "stream",
     "text": [
      "Requirement already satisfied: nltk in c:\\users\\petit\\anaconda3\\lib\\site-packages (3.7)\n",
      "Requirement already satisfied: tqdm in c:\\users\\petit\\anaconda3\\lib\\site-packages (from nltk) (4.64.0)\n",
      "Requirement already satisfied: click in c:\\users\\petit\\anaconda3\\lib\\site-packages (from nltk) (8.0.4)\n",
      "Requirement already satisfied: regex>=2021.8.3 in c:\\users\\petit\\anaconda3\\lib\\site-packages (from nltk) (2022.3.15)\n",
      "Requirement already satisfied: joblib in c:\\users\\petit\\anaconda3\\lib\\site-packages (from nltk) (1.1.0)\n",
      "Requirement already satisfied: colorama in c:\\users\\petit\\anaconda3\\lib\\site-packages (from click->nltk) (0.4.4)\n",
      "Note: you may need to restart the kernel to use updated packages.\n"
     ]
    }
   ],
   "source": [
    "pip install nltk"
   ]
  },
  {
   "cell_type": "code",
   "execution_count": 4,
   "id": "d2cc47ec",
   "metadata": {},
   "outputs": [
    {
     "name": "stderr",
     "output_type": "stream",
     "text": [
      "[nltk_data] Error loading stopwords: <urlopen error [SSL:\n",
      "[nltk_data]     CERTIFICATE_VERIFY_FAILED] certificate verify failed:\n",
      "[nltk_data]     Hostname mismatch, certificate is not valid for\n",
      "[nltk_data]     'raw.githubusercontent.com'. (_ssl.c:1129)>\n",
      "[nltk_data] Error loading punkt: <urlopen error [SSL:\n",
      "[nltk_data]     CERTIFICATE_VERIFY_FAILED] certificate verify failed:\n",
      "[nltk_data]     Hostname mismatch, certificate is not valid for\n",
      "[nltk_data]     'raw.githubusercontent.com'. (_ssl.c:1129)>\n"
     ]
    },
    {
     "data": {
      "text/plain": [
       "False"
      ]
     },
     "execution_count": 4,
     "metadata": {},
     "output_type": "execute_result"
    }
   ],
   "source": [
    "import nltk\n",
    "nltk.download('stopwords')\n",
    "nltk.download('punkt')"
   ]
  },
  {
   "cell_type": "code",
   "execution_count": 5,
   "id": "74988d37",
   "metadata": {},
   "outputs": [
    {
     "name": "stdout",
     "output_type": "stream",
     "text": [
      "{'down', 'while', 'how', 'of', 'our', 'there', 'itself', 'than', 'very', 'will', 'themselves', \"wasn't\", \"haven't\", 'has', 'over', 'being', 'o', 'ma', 'an', 'theirs', 'its', 'yourself', 'be', 'wouldn', 'what', 'whom', 'yours', 'nor', 'those', 'against', 'i', 'other', 'more', 'shouldn', 'yourselves', 'a', 'once', 'here', 'from', 'your', 'and', 'no', 'as', 'can', 's', 'most', 'they', 'don', 'some', \"shan't\", 'won', 'this', 'same', 'd', 'or', 'hadn', \"that'll\", 'we', 'if', 'few', 'is', 'the', 'y', 'why', 'shan', 'it', 'by', 'weren', \"she's\", 'having', 'she', 'were', 'for', 'any', 'both', 'on', 'again', 'himself', 'mustn', \"aren't\", \"don't\", 'needn', 'where', \"shouldn't\", 'through', 'was', 'hers', 'then', 'so', 'are', 'hasn', 'doesn', 'myself', 'until', 'to', 'that', 'now', 'her', \"doesn't\", 'at', 'when', 'but', 'during', 'because', \"it's\", 'above', 'his', 'wasn', \"needn't\", 'such', 'before', 'not', 'mightn', \"couldn't\", 'should', 'm', 'ours', 'ourselves', \"mustn't\", 've', 'after', 'did', 'which', 'these', 'too', \"should've\", 'ain', 'out', 'aren', \"you've\", 'own', \"weren't\", 'them', 'their', 'who', 'me', 'been', 'with', \"hasn't\", 'between', \"didn't\", 'didn', 'had', 'below', 'all', 'haven', \"won't\", 're', 'he', 'each', 'up', 'further', \"you'll\", 'you', 'do', 'in', 'off', \"hadn't\", \"mightn't\", 'have', 'doing', \"isn't\", 'into', \"wouldn't\", 'am', 't', 'just', 'isn', 'll', 'under', \"you'd\", 'couldn', 'does', 'him', 'about', 'my', \"you're\", 'herself', 'only'}\n",
      "\n",
      "['From', 'patient', 'self-service', 'to', 'chat', 'bots', ',', 'computer-aided', 'detection', '(', 'CAD', ')', 'systems', 'for', 'diagnosis', ',', 'and', 'image', 'data', 'analysis', 'to', 'identify', 'candidate', 'molecules', 'in', 'drug', 'discovery', ',', 'AI', 'is', 'already', 'at', 'work', 'increasing', 'convenience', 'and', 'efficiency', ',', 'reducing', 'costs', 'and', 'errors', ',', 'and', 'generally', 'making', 'it', 'easier', 'for', 'more', 'patients', 'to', 'receive', 'the', 'health', 'care', 'they', 'need.While', 'NLP', 'and', 'ML', 'are', 'already', 'being', 'used', 'in', 'health', 'care', ',', 'they', 'will', 'become', 'increasingly', 'important', 'for', 'their', 'potential', 'to', ':', 'Improve', 'provider', 'and', 'clinician', 'productivity', 'and', 'quality', 'of', 'care', ',', 'Enhance', 'patient', 'engagement', 'in', 'their', 'own', 'care', 'and', 'streamline', 'patient', 'access', 'to', 'care', ',', 'Accelerate', 'the', 'speed', 'and', 'reduce', 'the', 'cost', 'to', 'develop', 'new', 'pharmaceutical', 'treatments', 'and', 'Personalize', 'medical', 'treatments', 'by', 'leveraging', 'analytics', 'to', 'mine', 'significant', ',', 'previously', 'untapped', 'stores', 'of', 'non-codified', 'clinical', 'data', '.', 'From', 'patient', 'self-service', 'to', 'chat', 'bots', ',', 'computer-aided', 'detection', '(', 'CAD', ')', 'systems', 'for', 'diagnosis', ',', 'and', 'image', 'data', 'analysis', 'to', 'identify', 'candidate', 'molecules', 'in', 'drug', 'discovery', ',', 'AI', 'is', 'already', 'at', 'work', 'increasing', 'convenience', 'and', 'efficiency', ',', 'reducing', 'costs', 'and', 'errors', ',', 'and', 'generally', 'making', 'it', 'easier', 'for', 'more', 'patients', 'to', 'receive', 'the', 'health', 'care', 'they', 'need.While', 'NLP', 'and', 'ML', 'are', 'already', 'being', 'used', 'in', 'health', 'care', ',', 'they', 'will', 'become', 'increasingly', 'important', 'for', 'their', 'potential', 'to', ':', 'Improve', 'provider', 'and', 'clinician', 'productivity', 'and', 'quality', 'of', 'care', ',', 'Enhance', 'patient', 'engagement', 'in', 'their', 'own', 'care', 'and', 'streamline', 'patient', 'access', 'to', 'care', ',', 'Accelerate', 'the', 'speed', 'and', 'reduce', 'the', 'cost', 'to', 'develop', 'new', 'pharmaceutical', 'treatments', 'and', 'Personalize', 'medical', 'treatments', 'by', 'leveraging', 'analytics', 'to', 'mine', 'significant', ',', 'previously', 'untapped', 'stores', 'of', 'non-codified', 'clinical', 'data', '.', 'From', 'patient', 'self-service', 'to', 'chat', 'bots', ',', 'computer-aided', 'detection', '(', 'CAD', ')', 'systems', 'for', 'diagnosis', ',', 'and', 'image', 'data', 'analysis', 'to', 'identify', 'candidate', 'molecules', 'in', 'drug', 'discovery', ',', 'AI', 'is', 'already', 'at', 'work', 'increasing', 'convenience', 'and', 'efficiency', ',', 'reducing', 'costs', 'and', 'errors', ',', 'and', 'generally', 'making', 'it', 'easier', 'for', 'more', 'patients', 'to', 'receive', 'the', 'health', 'care', 'they', 'need.While', 'NLP', 'and', 'ML', 'are', 'already', 'being', 'used', 'in', 'health', 'care', ',', 'they', 'will', 'become', 'increasingly', 'important', 'for', 'their', 'potential', 'to', ':', 'Improve', 'provider', 'and', 'clinician', 'productivity', 'and', 'quality', 'of', 'care', ',', 'Enhance', 'patient', 'engagement', 'in', 'their', 'own', 'care', 'and', 'streamline', 'patient', 'access', 'to', 'care', ',', 'Accelerate', 'the', 'speed', 'and', 'reduce', 'the', 'cost', 'to', 'develop', 'new', 'pharmaceutical', 'treatments', 'and', 'Personalize', 'medical', 'treatments', 'by', 'leveraging', 'analytics', 'to', 'mine', 'significant', ',', 'previously', 'untapped', 'stores', 'of', 'non-codified', 'clinical', 'data', '.', 'From', 'patient', 'self-service', 'to', 'chat', 'bots', ',', 'computer-aided', 'detection', '(', 'CAD', ')', 'systems', 'for', 'diagnosis', ',', 'and', 'image', 'data', 'analysis', 'to', 'identify', 'candidate', 'molecules', 'in', 'drug', 'discovery', ',', 'AI', 'is', 'already', 'at', 'work', 'increasing', 'convenience', 'and', 'efficiency', ',', 'reducing', 'costs', 'and', 'errors', ',', 'and', 'generally', 'making', 'it', 'easier', 'for', 'more', 'patients', 'to', 'receive', 'the', 'health', 'care', 'they', 'need.While', 'NLP', 'and', 'ML', 'are', 'already', 'being', 'used', 'in', 'health', 'care', ',', 'they', 'will', 'become', 'increasingly', 'important', 'for', 'their', 'potential', 'to', ':', 'Improve', 'provider', 'and', 'clinician', 'productivity', 'and', 'quality', 'of', 'care', ',', 'Enhance', 'patient', 'engagement', 'in', 'their', 'own', 'care', 'and', 'streamline', 'patient', 'access', 'to', 'care', ',', 'Accelerate', 'the', 'speed', 'and', 'reduce', 'the', 'cost', 'to', 'develop', 'new', 'pharmaceutical', 'treatments', 'and', 'Personalize', 'medical', 'treatments', 'by', 'leveraging', 'analytics', 'to', 'mine', 'significant', ',', 'previously', 'untapped', 'stores', 'of', 'non-codified', 'clinical', 'data', '.']\n"
     ]
    }
   ],
   "source": [
    "# Tokenizing the text\n",
    "stopWords = set(stopwords.words(\"english\"))\n",
    "words = word_tokenize(content)\n",
    "print(stopWords)\n",
    "print()\n",
    "print(words)"
   ]
  },
  {
   "cell_type": "code",
   "execution_count": 6,
   "id": "771257c6",
   "metadata": {},
   "outputs": [],
   "source": [
    "# Creating a frequency table to keep the \n",
    "# score of each word\n",
    "   \n",
    "freqTable = dict()\n",
    "for word in words:\n",
    "    word = word.lower()\n",
    "    if word in stopWords:\n",
    "        continue\n",
    "    if word in freqTable:\n",
    "        freqTable[word] += 1\n",
    "    else:\n",
    "        freqTable[word] = 1"
   ]
  },
  {
   "cell_type": "code",
   "execution_count": 7,
   "id": "13a8ba47",
   "metadata": {},
   "outputs": [
    {
     "name": "stdout",
     "output_type": "stream",
     "text": [
      "{'patient': 12, 'self-service': 4, 'chat': 4, 'bots': 4, ',': 36, 'computer-aided': 4, 'detection': 4, '(': 4, 'cad': 4, ')': 4, 'systems': 4, 'diagnosis': 4, 'image': 4, 'data': 8, 'analysis': 4, 'identify': 4, 'candidate': 4, 'molecules': 4, 'drug': 4, 'discovery': 4, 'ai': 4, 'already': 8, 'work': 4, 'increasing': 4, 'convenience': 4, 'efficiency': 4, 'reducing': 4, 'costs': 4, 'errors': 4, 'generally': 4, 'making': 4, 'easier': 4, 'patients': 4, 'receive': 4, 'health': 8, 'care': 20, 'need.while': 4, 'nlp': 4, 'ml': 4, 'used': 4, 'become': 4, 'increasingly': 4, 'important': 4, 'potential': 4, ':': 4, 'improve': 4, 'provider': 4, 'clinician': 4, 'productivity': 4, 'quality': 4, 'enhance': 4, 'engagement': 4, 'streamline': 4, 'access': 4, 'accelerate': 4, 'speed': 4, 'reduce': 4, 'cost': 4, 'develop': 4, 'new': 4, 'pharmaceutical': 4, 'treatments': 8, 'personalize': 4, 'medical': 4, 'leveraging': 4, 'analytics': 4, 'mine': 4, 'significant': 4, 'previously': 4, 'untapped': 4, 'stores': 4, 'non-codified': 4, 'clinical': 4, '.': 4}\n"
     ]
    }
   ],
   "source": [
    "print(freqTable)"
   ]
  },
  {
   "cell_type": "code",
   "execution_count": 8,
   "id": "3b5e533e",
   "metadata": {},
   "outputs": [],
   "source": [
    "# Creating a dictionary to keep the score of each sentence\n",
    "sentences = sent_tokenize(content)\n",
    "sentenceValue = dict()\n",
    "   \n",
    "for sentence in sentences:\n",
    "    for word, freq in freqTable.items():\n",
    "        if word in sentence.lower():\n",
    "            if sentence in sentenceValue:\n",
    "                sentenceValue[sentence] += freq\n",
    "            else:\n",
    "                sentenceValue[sentence] = freq\n",
    "   "
   ]
  },
  {
   "cell_type": "code",
   "execution_count": 9,
   "id": "1bb4f10a",
   "metadata": {
    "scrolled": true
   },
   "outputs": [
    {
     "name": "stdout",
     "output_type": "stream",
     "text": [
      "{' From patient self-service to chat bots, computer-aided detection (CAD) systems for diagnosis, and image data analysis to identify candidate molecules in drug discovery, AI is already at work increasing convenience and efficiency, reducing costs and errors, and generally making it easier for more patients to receive the health care they need.While NLP and ML are already being used in health care, they will become increasingly important for their potential to:Improve provider and clinician productivity and quality of care, Enhance patient engagement in their own care and streamline patient access to care , Accelerate the speed and reduce the cost to develop new pharmaceutical treatments  and Personalize medical treatments by leveraging analytics to mine significant, previously untapped stores of non-codified clinical data.': 368, 'From patient self-service to chat bots, computer-aided detection (CAD) systems for diagnosis, and image data analysis to identify candidate molecules in drug discovery, AI is already at work increasing convenience and efficiency, reducing costs and errors, and generally making it easier for more patients to receive the health care they need.While NLP and ML are already being used in health care, they will become increasingly important for their potential to:Improve provider and clinician productivity and quality of care, Enhance patient engagement in their own care and streamline patient access to care , Accelerate the speed and reduce the cost to develop new pharmaceutical treatments  and Personalize medical treatments by leveraging analytics to mine significant, previously untapped stores of non-codified clinical data.': 1104}\n"
     ]
    }
   ],
   "source": [
    "print(sentenceValue)\n"
   ]
  },
  {
   "cell_type": "code",
   "execution_count": 10,
   "id": "6bd9fa39",
   "metadata": {},
   "outputs": [],
   "source": [
    "sumValues = 0\n",
    "for sentence in sentenceValue:\n",
    "    sumValues += sentenceValue[sentence]\n",
    "   "
   ]
  },
  {
   "cell_type": "code",
   "execution_count": 11,
   "id": "a38c56aa",
   "metadata": {},
   "outputs": [
    {
     "name": "stdout",
     "output_type": "stream",
     "text": [
      " From patient self-service to chat bots, computer-aided detection (CAD) systems for diagnosis, and image data analysis to identify candidate molecules in drug discovery, AI is already at work increasing convenience and efficiency, reducing costs and errors, and generally making it easier for more patients to receive the health care they need.While NLP and ML are already being used in health care, they will become increasingly important for their potential to:Improve provider and clinician productivity and quality of care, Enhance patient engagement in their own care and streamline patient access to care , Accelerate the speed and reduce the cost to develop new pharmaceutical treatments  and Personalize medical treatments by leveraging analytics to mine significant, previously untapped stores of non-codified clinical data. From patient self-service to chat bots, computer-aided detection (CAD) systems for diagnosis, and image data analysis to identify candidate molecules in drug discovery, AI is already at work increasing convenience and efficiency, reducing costs and errors, and generally making it easier for more patients to receive the health care they need.While NLP and ML are already being used in health care, they will become increasingly important for their potential to:Improve provider and clinician productivity and quality of care, Enhance patient engagement in their own care and streamline patient access to care , Accelerate the speed and reduce the cost to develop new pharmaceutical treatments  and Personalize medical treatments by leveraging analytics to mine significant, previously untapped stores of non-codified clinical data. From patient self-service to chat bots, computer-aided detection (CAD) systems for diagnosis, and image data analysis to identify candidate molecules in drug discovery, AI is already at work increasing convenience and efficiency, reducing costs and errors, and generally making it easier for more patients to receive the health care they need.While NLP and ML are already being used in health care, they will become increasingly important for their potential to:Improve provider and clinician productivity and quality of care, Enhance patient engagement in their own care and streamline patient access to care , Accelerate the speed and reduce the cost to develop new pharmaceutical treatments  and Personalize medical treatments by leveraging analytics to mine significant, previously untapped stores of non-codified clinical data.\n"
     ]
    }
   ],
   "source": [
    "# Average value of a sentence from the original text\n",
    "   \n",
    "average = int(sumValues / len(sentenceValue))\n",
    "   \n",
    "# Storing sentences into our summary.\n",
    "summary = ''\n",
    "for sentence in sentences:\n",
    "    if (sentence in sentenceValue) and (sentenceValue[sentence] > (1.2 * average)):\n",
    "        summary += \" \" + sentence\n",
    "print(summary)"
   ]
  },
  {
   "cell_type": "code",
   "execution_count": 12,
   "id": "ff5def99",
   "metadata": {},
   "outputs": [
    {
     "data": {
      "text/plain": [
       "2499"
      ]
     },
     "execution_count": 12,
     "metadata": {},
     "output_type": "execute_result"
    }
   ],
   "source": [
    "len(summary)"
   ]
  },
  {
   "cell_type": "code",
   "execution_count": 13,
   "id": "65184143",
   "metadata": {},
   "outputs": [
    {
     "name": "stdout",
     "output_type": "stream",
     "text": [
      "Requirement already satisfied: spacy in c:\\users\\shubh\\anaconda3\\lib\\site-packages (3.4.1)\n",
      "Requirement already satisfied: typer<0.5.0,>=0.3.0 in c:\\users\\shubh\\anaconda3\\lib\\site-packages (from spacy) (0.4.2)\n",
      "Requirement already satisfied: thinc<8.2.0,>=8.1.0 in c:\\users\\shubh\\anaconda3\\lib\\site-packages (from spacy) (8.1.2)\n",
      "Requirement already satisfied: wasabi<1.1.0,>=0.9.1 in c:\\users\\shubh\\anaconda3\\lib\\site-packages (from spacy) (0.10.1)\n",
      "Requirement already satisfied: catalogue<2.1.0,>=2.0.6 in c:\\users\\shubh\\anaconda3\\lib\\site-packages (from spacy) (2.0.8)\n",
      "Requirement already satisfied: srsly<3.0.0,>=2.4.3 in c:\\users\\shubh\\anaconda3\\lib\\site-packages (from spacy) (2.4.4)\n",
      "Requirement already satisfied: tqdm<5.0.0,>=4.38.0 in c:\\users\\shubh\\anaconda3\\lib\\site-packages (from spacy) (4.64.0)\n",
      "Requirement already satisfied: numpy>=1.15.0 in c:\\users\\shubh\\anaconda3\\lib\\site-packages (from spacy) (1.21.5)\n",
      "Requirement already satisfied: pydantic!=1.8,!=1.8.1,<1.10.0,>=1.7.4 in c:\\users\\shubh\\anaconda3\\lib\\site-packages (from spacy) (1.9.2)\n",
      "Requirement already satisfied: spacy-legacy<3.1.0,>=3.0.9 in c:\\users\\shubh\\anaconda3\\lib\\site-packages (from spacy) (3.0.10)\n",
      "Requirement already satisfied: murmurhash<1.1.0,>=0.28.0 in c:\\users\\shubh\\anaconda3\\lib\\site-packages (from spacy) (1.0.8)\n",
      "Requirement already satisfied: spacy-loggers<2.0.0,>=1.0.0 in c:\\users\\shubh\\anaconda3\\lib\\site-packages (from spacy) (1.0.3)\n",
      "Requirement already satisfied: pathy>=0.3.5 in c:\\users\\shubh\\anaconda3\\lib\\site-packages (from spacy) (0.6.2)\n",
      "Requirement already satisfied: preshed<3.1.0,>=3.0.2 in c:\\users\\shubh\\anaconda3\\lib\\site-packages (from spacy) (3.0.7)\n",
      "Requirement already satisfied: cymem<2.1.0,>=2.0.2 in c:\\users\\shubh\\anaconda3\\lib\\site-packages (from spacy) (2.0.6)\n",
      "Requirement already satisfied: packaging>=20.0 in c:\\users\\shubh\\anaconda3\\lib\\site-packages (from spacy) (21.3)\n",
      "Requirement already satisfied: langcodes<4.0.0,>=3.2.0 in c:\\users\\shubh\\anaconda3\\lib\\site-packages (from spacy) (3.3.0)\n",
      "Requirement already satisfied: setuptools in c:\\users\\shubh\\anaconda3\\lib\\site-packages (from spacy) (61.2.0)\n",
      "Requirement already satisfied: requests<3.0.0,>=2.13.0 in c:\\users\\shubh\\anaconda3\\lib\\site-packages (from spacy) (2.27.1)\n",
      "Requirement already satisfied: jinja2 in c:\\users\\shubh\\anaconda3\\lib\\site-packages (from spacy) (2.11.3)\n",
      "Requirement already satisfied: pyparsing!=3.0.5,>=2.0.2 in c:\\users\\shubh\\anaconda3\\lib\\site-packages (from packaging>=20.0->spacy) (3.0.4)\n",
      "Requirement already satisfied: smart-open<6.0.0,>=5.2.1 in c:\\users\\shubh\\anaconda3\\lib\\site-packages (from pathy>=0.3.5->spacy) (5.2.1)\n",
      "Requirement already satisfied: typing-extensions>=3.7.4.3 in c:\\users\\shubh\\anaconda3\\lib\\site-packages (from pydantic!=1.8,!=1.8.1,<1.10.0,>=1.7.4->spacy) (4.1.1)\n",
      "Requirement already satisfied: certifi>=2017.4.17 in c:\\users\\shubh\\anaconda3\\lib\\site-packages (from requests<3.0.0,>=2.13.0->spacy) (2021.10.8)\n",
      "Requirement already satisfied: charset-normalizer~=2.0.0 in c:\\users\\shubh\\anaconda3\\lib\\site-packages (from requests<3.0.0,>=2.13.0->spacy) (2.0.4)\n",
      "Requirement already satisfied: urllib3<1.27,>=1.21.1 in c:\\users\\shubh\\anaconda3\\lib\\site-packages (from requests<3.0.0,>=2.13.0->spacy) (1.26.9)\n",
      "Requirement already satisfied: idna<4,>=2.5 in c:\\users\\shubh\\anaconda3\\lib\\site-packages (from requests<3.0.0,>=2.13.0->spacy) (3.3)\n",
      "Requirement already satisfied: confection<1.0.0,>=0.0.1 in c:\\users\\shubh\\anaconda3\\lib\\site-packages (from thinc<8.2.0,>=8.1.0->spacy) (0.0.2)\n",
      "Requirement already satisfied: blis<0.8.0,>=0.7.8 in c:\\users\\shubh\\anaconda3\\lib\\site-packages (from thinc<8.2.0,>=8.1.0->spacy) (0.7.8)\n",
      "Requirement already satisfied: colorama in c:\\users\\shubh\\anaconda3\\lib\\site-packages (from tqdm<5.0.0,>=4.38.0->spacy) (0.4.4)\n",
      "Requirement already satisfied: click<9.0.0,>=7.1.1 in c:\\users\\shubh\\anaconda3\\lib\\site-packages (from typer<0.5.0,>=0.3.0->spacy) (8.0.4)\n",
      "Requirement already satisfied: MarkupSafe>=0.23 in c:\\users\\shubh\\anaconda3\\lib\\site-packages (from jinja2->spacy) (2.0.1)\n",
      "Note: you may need to restart the kernel to use updated packages.\n"
     ]
    }
   ],
   "source": [
    "pip install spacy"
   ]
  },
  {
   "cell_type": "code",
   "execution_count": 14,
   "id": "2c97c4da",
   "metadata": {},
   "outputs": [],
   "source": [
    "import spacy"
   ]
  },
  {
   "cell_type": "code",
   "execution_count": 15,
   "id": "97988a50",
   "metadata": {},
   "outputs": [],
   "source": [
    "nlp = spacy.load(\"en_core_web_sm\")"
   ]
  },
  {
   "cell_type": "code",
   "execution_count": 16,
   "id": "0b807d4d",
   "metadata": {},
   "outputs": [],
   "source": [
    "doc = nlp(summary)"
   ]
  },
  {
   "cell_type": "code",
   "execution_count": 17,
   "id": "43320c31",
   "metadata": {},
   "outputs": [
    {
     "name": "stdout",
     "output_type": "stream",
     "text": [
      " From patient self-service to chat bots, computer-aided detection (CAD) systems for diagnosis, and image data analysis to identify candidate molecules in drug discovery, AI is already at work increasing convenience and efficiency, reducing costs and errors, and generally making it easier for more patients to receive the health care they need.While NLP and ML are already being used in health care, they will become increasingly important for their potential to:Improve provider and clinician productivity and quality of care, Enhance patient engagement in their own care and streamline patient access to care , Accelerate the speed and reduce the cost to develop new pharmaceutical treatments  and Personalize medical treatments by leveraging analytics to mine significant, previously untapped stores of non-codified clinical data. From patient self-service to chat bots, computer-aided detection (CAD) systems for diagnosis, and image data analysis to identify candidate molecules in drug discovery, AI is already at work increasing convenience and efficiency, reducing costs and errors, and generally making it easier for more patients to receive the health care they need.While NLP and ML are already being used in health care, they will become increasingly important for their potential to:Improve provider and clinician productivity and quality of care, Enhance patient engagement in their own care and streamline patient access to care , Accelerate the speed and reduce the cost to develop new pharmaceutical treatments  and Personalize medical treatments by leveraging analytics to mine significant, previously untapped stores of non-codified clinical data. From patient self-service to chat bots, computer-aided detection (CAD) systems for diagnosis, and image data analysis to identify candidate molecules in drug discovery, AI is already at work increasing convenience and efficiency, reducing costs and errors, and generally making it easier for more patients to receive the health care they need.While NLP and ML are already being used in health care, they will become increasingly important for their potential to:Improve provider and clinician productivity and quality of care, Enhance patient engagement in their own care and streamline patient access to care , Accelerate the speed and reduce the cost to develop new pharmaceutical treatments  and Personalize medical treatments by leveraging analytics to mine significant, previously untapped stores of non-codified clinical data.\n"
     ]
    }
   ],
   "source": [
    "print(doc)"
   ]
  },
  {
   "cell_type": "code",
   "execution_count": 18,
   "id": "edf86d97",
   "metadata": {},
   "outputs": [
    {
     "name": "stdout",
     "output_type": "stream",
     "text": [
      "430\n"
     ]
    }
   ],
   "source": [
    "summary_length = len(doc)\n",
    "print(summary_length)"
   ]
  },
  {
   "cell_type": "code",
   "execution_count": 19,
   "id": "80e43ed3",
   "metadata": {},
   "outputs": [],
   "source": [
    "\n",
    "#reading summary obtained from online sources\n",
    "with open (\"summarized_from_online_source.txt\", \"r\") as f:\n",
    "    data = f.read()\n",
    "\n"
   ]
  },
  {
   "cell_type": "code",
   "execution_count": 20,
   "id": "694751be",
   "metadata": {},
   "outputs": [],
   "source": [
    "# summarized = nlp(data)"
   ]
  },
  {
   "cell_type": "code",
   "execution_count": 21,
   "id": "3c961184",
   "metadata": {},
   "outputs": [
    {
     "name": "stdout",
     "output_type": "stream",
     "text": [
      "However, apart from these beneficial uses, one great challenge of AI in healthcare is to ensure its adoption in daily clinical practices.  From patient self-service to chat bots, computer-aided detection (CAD) systems for diagnosis, and image data analysis to identify candidate molecules in drug discovery, AI is already at work increasing convenience and efficiency, reducing costs and errors, and generally making it easier for more patients to receive the health care they need. While NLP and ML are already being used in health care, they will become increasingly important for their potential to:Improve provider and clinician productivity and quality of care, Enhance patient engagement in their own care and streamline patient access to care , Accelerate the speed and reduce the cost to develop new pharmaceutical treatments  and Personalize medical treatments by leveraging analytics to mine significant, previously untapped stores of non-codified clinical data. \n",
      ".\n",
      "\n"
     ]
    }
   ],
   "source": [
    "print(data)"
   ]
  },
  {
   "cell_type": "code",
   "execution_count": 22,
   "id": "8f37af2b",
   "metadata": {},
   "outputs": [],
   "source": [
    "f.close()"
   ]
  },
  {
   "cell_type": "code",
   "execution_count": 23,
   "id": "edf832f1",
   "metadata": {},
   "outputs": [],
   "source": [
    "summarized = nlp(data)"
   ]
  },
  {
   "cell_type": "code",
   "execution_count": 24,
   "id": "3d4a8a1e",
   "metadata": {},
   "outputs": [
    {
     "name": "stdout",
     "output_type": "stream",
     "text": [
      "However, apart from these beneficial uses, one great challenge of AI in healthcare is to ensure its adoption in daily clinical practices.  From patient self-service to chat bots, computer-aided detection (CAD) systems for diagnosis, and image data analysis to identify candidate molecules in drug discovery, AI is already at work increasing convenience and efficiency, reducing costs and errors, and generally making it easier for more patients to receive the health care they need. While NLP and ML are already being used in health care, they will become increasingly important for their potential to:Improve provider and clinician productivity and quality of care, Enhance patient engagement in their own care and streamline patient access to care , Accelerate the speed and reduce the cost to develop new pharmaceutical treatments  and Personalize medical treatments by leveraging analytics to mine significant, previously untapped stores of non-codified clinical data. \n",
      ".\n",
      "\n"
     ]
    }
   ],
   "source": [
    "print(summarized)"
   ]
  },
  {
   "cell_type": "code",
   "execution_count": 25,
   "id": "9e9462d4",
   "metadata": {},
   "outputs": [
    {
     "name": "stdout",
     "output_type": "stream",
     "text": [
      "172\n"
     ]
    }
   ],
   "source": [
    "online_length = len(summarized)\n",
    "print(online_length)"
   ]
  },
  {
   "cell_type": "code",
   "execution_count": 26,
   "id": "082ac864",
   "metadata": {},
   "outputs": [],
   "source": [
    "import numpy as np \n",
    "import matplotlib.pyplot as plt "
   ]
  },
  {
   "cell_type": "code",
   "execution_count": 27,
   "id": "ed7fbfeb",
   "metadata": {},
   "outputs": [],
   "source": [
    "x =[online_length]"
   ]
  },
  {
   "cell_type": "code",
   "execution_count": 28,
   "id": "3b1a834f",
   "metadata": {},
   "outputs": [],
   "source": [
    "y = [summary_length]"
   ]
  },
  {
   "cell_type": "code",
   "execution_count": 29,
   "id": "2309beb6",
   "metadata": {},
   "outputs": [],
   "source": [
    "X_axis = np.arange(1)"
   ]
  },
  {
   "cell_type": "code",
   "execution_count": 30,
   "id": "b3c6070c",
   "metadata": {},
   "outputs": [
    {
     "data": {
      "image/png": "[encoded data removed]",
      "text/plain": [
       "<Figure size 432x288 with 1 Axes>"
      ]
     },
     "metadata": {
      "needs_background": "light"
     },
     "output_type": "display_data"
    }
   ],
   "source": [
    "plt.bar(X_axis - 0.3, x, 0.1, label = 'summary_from_online_source')\n",
    "plt.bar(X_axis + 0.3, y, 0.1, label = 'summary from_model')\n",
    "plt.xticks(X_axis)\n",
    "plt.xlabel(\"Models\")\n",
    "plt.ylabel(\"Length of Summary\")\n",
    "plt.title(\"Length of summary from models\")\n",
    "plt.legend()\n",
    "plt.show()"
   ]
  },
  {
   "cell_type": "code",
   "execution_count": 31,
   "id": "aaa9876f",
   "metadata": {},
   "outputs": [],
   "source": [
    "import math\n",
    "import string\n",
    "import sys\n",
    "  "
   ]
  },
  {
   "cell_type": "code",
   "execution_count": 32,
   "id": "aa47ac7d",
   "metadata": {},
   "outputs": [],
   "source": [
    "# reading the text file\n",
    "# This function will return a list of the lines of text  in the file.\n",
    "def read_file(filename): \n",
    "      \n",
    "    try:\n",
    "        with open(filename, 'r') as f:\n",
    "            data = f.read()\n",
    "        return data\n",
    "      \n",
    "    except IOError:\n",
    "        print(\"Error opening or reading input file: \", filename)\n",
    "        sys.exit()"
   ]
  },
  {
   "cell_type": "code",
   "execution_count": 33,
   "id": "7bb605a7",
   "metadata": {},
   "outputs": [],
   "source": [
    "# splitting the text lines into words\n",
    "# translation table is a global variable mapping upper case to lower case and punctuation to spaces\n",
    "translation_table = str.maketrans(string.punctuation+string.ascii_uppercase,\n",
    "                                     \" \"*len(string.punctuation)+string.ascii_lowercase)"
   ]
  },
  {
   "cell_type": "code",
   "execution_count": 34,
   "id": "a76ae77f",
   "metadata": {},
   "outputs": [],
   "source": [
    "# returns a list of the words in the file\n",
    "def get_words_from_line_list(text): \n",
    "      \n",
    "    text = text.translate(translation_table)\n",
    "    word_list = text.split()\n",
    "      \n",
    "    return word_list"
   ]
  },
  {
   "cell_type": "code",
   "execution_count": 35,
   "id": "09075cbe",
   "metadata": {},
   "outputs": [],
   "source": [
    "# counts frequency of each word returns a dictionary which maps the words to  their frequency.\n",
    "def count_frequency(word_list): \n",
    "      \n",
    "    D = {}\n",
    "      \n",
    "    for new_word in word_list:\n",
    "          \n",
    "        if new_word in D:\n",
    "            D[new_word] = D[new_word] + 1\n",
    "              \n",
    "        else:\n",
    "            D[new_word] = 1\n",
    "              \n",
    "    return D"
   ]
  },
  {
   "cell_type": "code",
   "execution_count": 36,
   "id": "27e21f5e",
   "metadata": {},
   "outputs": [],
   "source": [
    "# returns dictionary of (word, frequency) pairs from the previous dictionary.\n",
    "def word_frequencies_for_file(filename): \n",
    "      \n",
    "    line_list = read_file(filename)\n",
    "    word_list = get_words_from_line_list(line_list)\n",
    "    freq_mapping = count_frequency(word_list)\n",
    "  \n",
    "    print(\"File\", filename, \":\", )\n",
    "    print(len(line_list), \"lines, \", )\n",
    "    print(len(word_list), \"words, \", )\n",
    "    print(len(freq_mapping), \"distinct words\")\n",
    "  \n",
    "    return freq_mapping\n",
    "  "
   ]
  },
  {
   "cell_type": "code",
   "execution_count": 37,
   "id": "7fbb84f7",
   "metadata": {},
   "outputs": [],
   "source": [
    "# returns the dot product of two documents\n",
    "def dotProduct(D1, D2): \n",
    "    Sum = 0.0\n",
    "      \n",
    "    for key in D1:\n",
    "          \n",
    "        if key in D2:\n",
    "            Sum += (D1[key] * D2[key])\n",
    "              \n",
    "    return Sum"
   ]
  },
  {
   "cell_type": "code",
   "execution_count": 38,
   "id": "00e6baff",
   "metadata": {},
   "outputs": [],
   "source": [
    "# returns the angle in radians between document vectors\n",
    "def vector_angle(D1, D2): \n",
    "    numerator = dotProduct(D1, D2)\n",
    "    denominator = math.sqrt(dotProduct(D1, D1)*dotProduct(D2, D2))\n",
    "      \n",
    "    return math.acos(numerator / denominator)"
   ]
  },
  {
   "cell_type": "code",
   "execution_count": 39,
   "id": "5f1ca9cb",
   "metadata": {},
   "outputs": [],
   "source": [
    "def documentSimilarity(filename_1, filename_2):\n",
    "    \n",
    "    sorted_word_list_1 = word_frequencies_for_file(filename_1)\n",
    "    sorted_word_list_2 = word_frequencies_for_file(filename_2)\n",
    "    distance = vector_angle(sorted_word_list_1, sorted_word_list_2)\n",
    "      \n",
    "    print(\"The distance between the documents is: % 0.6f (radians)\"% distance)\n",
    "      "
   ]
  },
  {
   "cell_type": "code",
   "execution_count": 40,
   "id": "125f7f08",
   "metadata": {},
   "outputs": [],
   "source": [
    "with open (\"summary_from_model.txt\", \"a\") as f:\n",
    "    f.write(summary)"
   ]
  },
  {
   "cell_type": "code",
   "execution_count": 41,
   "id": "a938e0e4",
   "metadata": {},
   "outputs": [],
   "source": [
    "f.close()"
   ]
  },
  {
   "cell_type": "code",
   "execution_count": 42,
   "id": "677f89de",
   "metadata": {},
   "outputs": [
    {
     "name": "stdout",
     "output_type": "stream",
     "text": [
      "File summary_from_model.txt :\n",
      "10872 lines, \n",
      "1719 words, \n",
      "366 distinct words\n",
      "File summarized_from_online_source.txt :\n",
      "976 lines, \n",
      "147 words, \n",
      "105 distinct words\n",
      "The distance between the documents is:  0.340934 (radians)\n"
     ]
    }
   ],
   "source": [
    "documentSimilarity(\"summary_from_model.txt\", \"summarized_from_online_source.txt\")"
   ]
  },
  {
   "cell_type": "code",
   "execution_count": 43,
   "id": "27db5034",
   "metadata": {},
   "outputs": [
    {
     "data": {
      "image/png": "[encoded data removed]",
      "text/plain": [
       "<Figure size 432x288 with 1 Axes>"
      ]
     },
     "metadata": {
      "needs_background": "light"
     },
     "output_type": "display_data"
    }
   ],
   "source": [
    "plt.bar(X_axis - 0.4, 91, 0.2, label = 'summary_from_model')\n",
    "plt.bar(X_axis + 0.4, 105, 0.2, label = 'summary from_online_source')\n",
    "plt.xticks(X_axis)\n",
    "plt.xlabel(\"Models\")\n",
    "plt.ylabel(\"Unique Words\")\n",
    "plt.title(\"Distinct words in summary\")\n",
    "plt.legend()\n",
    "plt.show()"
   ]
  },
  {
   "cell_type": "code",
   "execution_count": null,
   "id": "4bcacb8d",
   "metadata": {},
   "outputs": [],
   "source": []
  },
  {
   "cell_type": "code",
   "execution_count": null,
   "id": "31ff297a",
   "metadata": {},
   "outputs": [],
   "source": []
  },
  {
   "cell_type": "code",
   "execution_count": null,
   "id": "93544265",
   "metadata": {},
   "outputs": [],
   "source": []
  },
  {
   "cell_type": "code",
   "execution_count": null,
   "id": "65850514",
   "metadata": {},
   "outputs": [],
   "source": []
  },
  {
   "cell_type": "code",
   "execution_count": null,
   "id": "4c9b2c4a",
   "metadata": {},
   "outputs": [],
   "source": []
  },
  {
   "cell_type": "code",
   "execution_count": null,
   "id": "b8c2569d",
   "metadata": {},
   "outputs": [],
   "source": []
  },
  {
   "cell_type": "code",
   "execution_count": null,
   "id": "fb53e99f",
   "metadata": {},
   "outputs": [],
   "source": []
  }
 ],
 "metadata": {
  "kernelspec": {
   "display_name": "Python 3 (ipykernel)",
   "language": "python",
   "name": "python3"
  },
  "language_info": {
   "codemirror_mode": {
    "name": "ipython",
    "version": 3
   },
   "file_extension": ".py",
   "mimetype": "text/x-python",
   "name": "python",
   "nbconvert_exporter": "python",
   "pygments_lexer": "ipython3",
   "version": "3.9.12"
  }
 },
 "nbformat": 4,
 "nbformat_minor": 5
}
